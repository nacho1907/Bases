{
  "cells": [
    {
      "cell_type": "markdown",
      "metadata": {
        "id": "view-in-github",
        "colab_type": "text"
      },
      "source": [
        "<a href=\"https://colab.research.google.com/github/nacho1907/Bases/blob/main/Ejercicios_vivo_clase_1.ipynb\" target=\"_parent\"><img src=\"https://colab.research.google.com/assets/colab-badge.svg\" alt=\"Open In Colab\"/></a>"
      ]
    },
    {
      "cell_type": "code",
      "source": [
        "import numpy as np\n",
        "import scipy.stats as st\n",
        "import pandas as pd\n",
        "import matplotlib.pyplot as plt"
      ],
      "metadata": {
        "id": "SJ8eFMyRMLnj"
      },
      "execution_count": 3,
      "outputs": [],
      "id": "SJ8eFMyRMLnj"
    },
    {
      "cell_type": "markdown",
      "metadata": {
        "id": "f3a7d18a"
      },
      "source": [
        "# Introducción a la Inferencia Causal\n",
        "\n",
        "# Clase 1 - Ejercicio en Vivo\n",
        "\n",
        "> Gabo y Wen fueron a comer.\n",
        ">\n",
        "> Gabo comió mariscos. Wendy comió pasta.\n",
        ">\n",
        "> Gabo se sintió mal... ¿Fueron los mariscos?\n",
        ">\n",
        "> Wendy no se sintió mal.\n",
        ">\n",
        "> ¿Conclusión?\n",
        "\n",
        "Inspirados en esta típica situación, consideremos un modelo sencillo.\n",
        "\n",
        "Supongamos que conocemos el modelo generador de datos: el dolor de panza depende\n",
        "1. Un poco de comer un plato en mal estado o no, y\n",
        "2. considerablemente más de la salud previa.\n",
        "\n",
        "Concretamente, postulemos lo siguiente:\n",
        "\n",
        "- Tenemos una variable aleatoria $Y= \\text{malestar}$ que es el \"resultado\".\n",
        "- El \"tratamiento\" es comer mariscos, $T = \\text{mariscos}$. Es una variable binaria, puede valer $0$ si el individuo no come mariscos o $1$ si come mariscos.\n",
        "- La variable confusora es $X = \\text{salud_previa}$. También la tomamos como variable binaria, que vale $1$ si el individuo tiene buena salud previa o $0$ si no.\n",
        "\n",
        "Vamos a tomar a $\\text{malestar}$ como variables numérica que puede tomar distintos valores, y mientras más alto es el valor, mayor es el malestar del individuo."
      ],
      "id": "f3a7d18a"
    },
    {
      "cell_type": "markdown",
      "source": [
        "\n",
        "Supongamos que los mariscos estaban efectivamente en mal estado. Postulemos entonces la siguiente relación para el $i$-ésimo individuo:\n",
        "\n",
        "$$\\text{bienestar}_i = - 2 \\text{mariscos}_i + 3 \\text{salud_previa}_i + u_i.$$\n",
        "\n",
        "Recordar que la variable aleatoria $u_i$ es el _término de ruido_.\n",
        "\n",
        "**Atención: esta ecuación es lo que en la realidad nunca podemos conocer. Es el modelo generador de los datos** (junto con las dos ecuaciones de abajo que indican cómo se generan $\\text{salud_previa}$ y $\\text{mariscos}$).\n",
        "\n",
        "Para terminar de especificar el modelo y poder generar los datos, tenemos que dar distribuciones de probabilidad sobre las variables.\n",
        "\n",
        "Digamos que la probabilidad de que un individuo tenga buena salud previa es $p = 0.7$. Luego\n",
        "\n",
        "$$\\text{salud_previa} = \\text{Bernoulli}(p = 0.7)$$\n",
        "\n",
        "Supongamos además que todas las personas que se venían sintiendo bien se animan a probar mariscos, y todas las que se venían sintiendo mal deciden _no_ comer mariscos. Es decir que\n",
        "\n",
        "$$\\text{mariscos} = \\text{salud_previa}.$$\n",
        "\n",
        "Por último, vamos a tomar $u$ como una variable aleatoria normal con desviación estándar $1$.\n",
        "\n"
      ],
      "metadata": {
        "id": "Qp8hmRY7oxbx"
      },
      "id": "Qp8hmRY7oxbx"
    },
    {
      "cell_type": "markdown",
      "source": [
        "\n",
        "## Ejercicio 1\n",
        "Supongamos que queremos estudiar el efecto de comer mariscos en el malestar para 200 individuos. Simular los datos correspondientes a esta situación. Luego, con esos datos, calcular el bienestar promedio para los que comen mariscos versus para los que no comen mariscos. ¿Qué concluiría?"
      ],
      "metadata": {
        "id": "RNXkUZ0Yo0lm"
      },
      "id": "RNXkUZ0Yo0lm"
    },
    {
      "cell_type": "markdown",
      "source": [
        "\n",
        "## Ejercicio 1\n",
        "Supongamos que queremos estudiar el efecto de comer mariscos en el malestar para 200 individuos. Simular los datos correspondientes a esta situación. Luego, con esos datos, calcular el bienestar promedio para los que comen mariscos versus para los que no comen mariscos. ¿Qué concluiría?"
      ],
      "metadata": {
        "id": "Yx6VR73_5ci-"
      },
      "id": "Yx6VR73_5ci-"
    },
    {
      "cell_type": "markdown",
      "source": [
        "### Solución"
      ],
      "metadata": {
        "id": "0mgIwRBUjRyT"
      },
      "id": "0mgIwRBUjRyT"
    },
    {
      "cell_type": "code",
      "source": [
        "def correr_simulacion_1(p = 0.7, n = 200):\n",
        "  salud_previa = st.bernoulli.rvs(p, size = n)\n",
        "  mariscos = salud_previa\n",
        "  bienestar = - 2 * mariscos + 3 * salud_previa +  np.random.normal(0, 1, size = n)\n",
        "  return pd.DataFrame({\"salud previa\": salud_previa, \"mariscos\": mariscos, \"bienestar\": bienestar})"
      ],
      "metadata": {
        "id": "ejSMgq8yEnpG"
      },
      "execution_count": 1,
      "outputs": [],
      "id": "ejSMgq8yEnpG"
    },
    {
      "cell_type": "code",
      "source": [
        "datos_ej1 = correr_simulacion_1()\n",
        "bienestar_mariscos = datos_ej1[datos_ej1[\"mariscos\"] == 1][\"bienestar\"].mean()\n",
        "bienestar_no_mariscos = datos_ej1[datos_ej1[\"mariscos\"] == 0][\"bienestar\"].mean()\n",
        "print(\"Bienestar de los que comen mariscos:\", bienestar_mariscos)\n",
        "print(\"Bienestar de los que no comen mariscos:\", bienestar_no_mariscos)"
      ],
      "metadata": {
        "colab": {
          "base_uri": "https://localhost:8080/"
        },
        "id": "kyWlSgd_NfdS",
        "outputId": "e7c39bbc-7a7b-4ca2-f4ae-ce036d042208"
      },
      "execution_count": 4,
      "outputs": [
        {
          "output_type": "stream",
          "name": "stdout",
          "text": [
            "Bienestar de los que comen mariscos: 1.0249099419001457\n",
            "Bienestar de los que no comen mariscos: 0.07220272024008963\n"
          ]
        }
      ],
      "id": "kyWlSgd_NfdS"
    },
    {
      "cell_type": "code",
      "source": [
        "datos_ej1.head(2)"
      ],
      "metadata": {
        "id": "iH4fNoMdLjtr",
        "outputId": "a0e36ce5-203b-4bb8-c6dd-ccc7089af925",
        "colab": {
          "base_uri": "https://localhost:8080/",
          "height": 112
        }
      },
      "id": "iH4fNoMdLjtr",
      "execution_count": 6,
      "outputs": [
        {
          "output_type": "execute_result",
          "data": {
            "text/plain": [
              "   salud previa  mariscos  bienestar\n",
              "0             1         1   2.063759\n",
              "1             0         0  -0.229184"
            ],
            "text/html": [
              "\n",
              "\n",
              "  <div id=\"df-1a0c3a75-90ae-402a-81fc-9bc4a28ba6ea\">\n",
              "    <div class=\"colab-df-container\">\n",
              "      <div>\n",
              "<style scoped>\n",
              "    .dataframe tbody tr th:only-of-type {\n",
              "        vertical-align: middle;\n",
              "    }\n",
              "\n",
              "    .dataframe tbody tr th {\n",
              "        vertical-align: top;\n",
              "    }\n",
              "\n",
              "    .dataframe thead th {\n",
              "        text-align: right;\n",
              "    }\n",
              "</style>\n",
              "<table border=\"1\" class=\"dataframe\">\n",
              "  <thead>\n",
              "    <tr style=\"text-align: right;\">\n",
              "      <th></th>\n",
              "      <th>salud previa</th>\n",
              "      <th>mariscos</th>\n",
              "      <th>bienestar</th>\n",
              "    </tr>\n",
              "  </thead>\n",
              "  <tbody>\n",
              "    <tr>\n",
              "      <th>0</th>\n",
              "      <td>1</td>\n",
              "      <td>1</td>\n",
              "      <td>2.063759</td>\n",
              "    </tr>\n",
              "    <tr>\n",
              "      <th>1</th>\n",
              "      <td>0</td>\n",
              "      <td>0</td>\n",
              "      <td>-0.229184</td>\n",
              "    </tr>\n",
              "  </tbody>\n",
              "</table>\n",
              "</div>\n",
              "      <button class=\"colab-df-convert\" onclick=\"convertToInteractive('df-1a0c3a75-90ae-402a-81fc-9bc4a28ba6ea')\"\n",
              "              title=\"Convert this dataframe to an interactive table.\"\n",
              "              style=\"display:none;\">\n",
              "\n",
              "  <svg xmlns=\"http://www.w3.org/2000/svg\" height=\"24px\"viewBox=\"0 0 24 24\"\n",
              "       width=\"24px\">\n",
              "    <path d=\"M0 0h24v24H0V0z\" fill=\"none\"/>\n",
              "    <path d=\"M18.56 5.44l.94 2.06.94-2.06 2.06-.94-2.06-.94-.94-2.06-.94 2.06-2.06.94zm-11 1L8.5 8.5l.94-2.06 2.06-.94-2.06-.94L8.5 2.5l-.94 2.06-2.06.94zm10 10l.94 2.06.94-2.06 2.06-.94-2.06-.94-.94-2.06-.94 2.06-2.06.94z\"/><path d=\"M17.41 7.96l-1.37-1.37c-.4-.4-.92-.59-1.43-.59-.52 0-1.04.2-1.43.59L10.3 9.45l-7.72 7.72c-.78.78-.78 2.05 0 2.83L4 21.41c.39.39.9.59 1.41.59.51 0 1.02-.2 1.41-.59l7.78-7.78 2.81-2.81c.8-.78.8-2.07 0-2.86zM5.41 20L4 18.59l7.72-7.72 1.47 1.35L5.41 20z\"/>\n",
              "  </svg>\n",
              "      </button>\n",
              "\n",
              "\n",
              "\n",
              "    <div id=\"df-e21180d3-1f7d-430b-90eb-840752bdf94a\">\n",
              "      <button class=\"colab-df-quickchart\" onclick=\"quickchart('df-e21180d3-1f7d-430b-90eb-840752bdf94a')\"\n",
              "              title=\"Suggest charts.\"\n",
              "              style=\"display:none;\">\n",
              "\n",
              "<svg xmlns=\"http://www.w3.org/2000/svg\" height=\"24px\"viewBox=\"0 0 24 24\"\n",
              "     width=\"24px\">\n",
              "    <g>\n",
              "        <path d=\"M19 3H5c-1.1 0-2 .9-2 2v14c0 1.1.9 2 2 2h14c1.1 0 2-.9 2-2V5c0-1.1-.9-2-2-2zM9 17H7v-7h2v7zm4 0h-2V7h2v10zm4 0h-2v-4h2v4z\"/>\n",
              "    </g>\n",
              "</svg>\n",
              "      </button>\n",
              "    </div>\n",
              "\n",
              "<style>\n",
              "  .colab-df-quickchart {\n",
              "    background-color: #E8F0FE;\n",
              "    border: none;\n",
              "    border-radius: 50%;\n",
              "    cursor: pointer;\n",
              "    display: none;\n",
              "    fill: #1967D2;\n",
              "    height: 32px;\n",
              "    padding: 0 0 0 0;\n",
              "    width: 32px;\n",
              "  }\n",
              "\n",
              "  .colab-df-quickchart:hover {\n",
              "    background-color: #E2EBFA;\n",
              "    box-shadow: 0px 1px 2px rgba(60, 64, 67, 0.3), 0px 1px 3px 1px rgba(60, 64, 67, 0.15);\n",
              "    fill: #174EA6;\n",
              "  }\n",
              "\n",
              "  [theme=dark] .colab-df-quickchart {\n",
              "    background-color: #3B4455;\n",
              "    fill: #D2E3FC;\n",
              "  }\n",
              "\n",
              "  [theme=dark] .colab-df-quickchart:hover {\n",
              "    background-color: #434B5C;\n",
              "    box-shadow: 0px 1px 3px 1px rgba(0, 0, 0, 0.15);\n",
              "    filter: drop-shadow(0px 1px 2px rgba(0, 0, 0, 0.3));\n",
              "    fill: #FFFFFF;\n",
              "  }\n",
              "</style>\n",
              "\n",
              "    <script>\n",
              "      async function quickchart(key) {\n",
              "        const containerElement = document.querySelector('#' + key);\n",
              "        const charts = await google.colab.kernel.invokeFunction(\n",
              "            'suggestCharts', [key], {});\n",
              "      }\n",
              "    </script>\n",
              "\n",
              "      <script>\n",
              "\n",
              "function displayQuickchartButton(domScope) {\n",
              "  let quickchartButtonEl =\n",
              "    domScope.querySelector('#df-e21180d3-1f7d-430b-90eb-840752bdf94a button.colab-df-quickchart');\n",
              "  quickchartButtonEl.style.display =\n",
              "    google.colab.kernel.accessAllowed ? 'block' : 'none';\n",
              "}\n",
              "\n",
              "        displayQuickchartButton(document);\n",
              "      </script>\n",
              "      <style>\n",
              "    .colab-df-container {\n",
              "      display:flex;\n",
              "      flex-wrap:wrap;\n",
              "      gap: 12px;\n",
              "    }\n",
              "\n",
              "    .colab-df-convert {\n",
              "      background-color: #E8F0FE;\n",
              "      border: none;\n",
              "      border-radius: 50%;\n",
              "      cursor: pointer;\n",
              "      display: none;\n",
              "      fill: #1967D2;\n",
              "      height: 32px;\n",
              "      padding: 0 0 0 0;\n",
              "      width: 32px;\n",
              "    }\n",
              "\n",
              "    .colab-df-convert:hover {\n",
              "      background-color: #E2EBFA;\n",
              "      box-shadow: 0px 1px 2px rgba(60, 64, 67, 0.3), 0px 1px 3px 1px rgba(60, 64, 67, 0.15);\n",
              "      fill: #174EA6;\n",
              "    }\n",
              "\n",
              "    [theme=dark] .colab-df-convert {\n",
              "      background-color: #3B4455;\n",
              "      fill: #D2E3FC;\n",
              "    }\n",
              "\n",
              "    [theme=dark] .colab-df-convert:hover {\n",
              "      background-color: #434B5C;\n",
              "      box-shadow: 0px 1px 3px 1px rgba(0, 0, 0, 0.15);\n",
              "      filter: drop-shadow(0px 1px 2px rgba(0, 0, 0, 0.3));\n",
              "      fill: #FFFFFF;\n",
              "    }\n",
              "  </style>\n",
              "\n",
              "      <script>\n",
              "        const buttonEl =\n",
              "          document.querySelector('#df-1a0c3a75-90ae-402a-81fc-9bc4a28ba6ea button.colab-df-convert');\n",
              "        buttonEl.style.display =\n",
              "          google.colab.kernel.accessAllowed ? 'block' : 'none';\n",
              "\n",
              "        async function convertToInteractive(key) {\n",
              "          const element = document.querySelector('#df-1a0c3a75-90ae-402a-81fc-9bc4a28ba6ea');\n",
              "          const dataTable =\n",
              "            await google.colab.kernel.invokeFunction('convertToInteractive',\n",
              "                                                     [key], {});\n",
              "          if (!dataTable) return;\n",
              "\n",
              "          const docLinkHtml = 'Like what you see? Visit the ' +\n",
              "            '<a target=\"_blank\" href=https://colab.research.google.com/notebooks/data_table.ipynb>data table notebook</a>'\n",
              "            + ' to learn more about interactive tables.';\n",
              "          element.innerHTML = '';\n",
              "          dataTable['output_type'] = 'display_data';\n",
              "          await google.colab.output.renderOutput(dataTable, element);\n",
              "          const docLink = document.createElement('div');\n",
              "          docLink.innerHTML = docLinkHtml;\n",
              "          element.appendChild(docLink);\n",
              "        }\n",
              "      </script>\n",
              "    </div>\n",
              "  </div>\n"
            ]
          },
          "metadata": {},
          "execution_count": 6
        }
      ]
    },
    {
      "cell_type": "markdown",
      "source": [
        "Vemos que los que comieron mariscos se sienten mejor que los que no comieron, incluso aunque sabemos que en realidad los mariscos sí tenían un impacto negativo en el bienestar."
      ],
      "metadata": {
        "id": "3S3gplbkL5hc"
      },
      "id": "3S3gplbkL5hc"
    },
    {
      "cell_type": "markdown",
      "source": [
        "## Ejercicio 2: Armando un experimento\n",
        "\n",
        "Escriba una simulación de un **experimento**, donde de forma aleatoria a cada persona se le da un plato de mariscos con probabilidad $0.5$.\n",
        "\n",
        "(Notar que las muestras que obtendremos no son muestras observacionales sino _experimentales_).\n",
        "\n",
        "Cree un set de datos (muestras experimentales) a partir de esta simulación."
      ],
      "metadata": {
        "id": "dhJNmq_ye4XB"
      },
      "id": "dhJNmq_ye4XB"
    },
    {
      "cell_type": "code",
      "source": [
        "def exp_mariscos(n):\n",
        "  come = st.bernoulli.rvs(0.5, size = n)\n",
        "  return come"
      ],
      "metadata": {
        "id": "7LbsBQ_4Oksb"
      },
      "id": "7LbsBQ_4Oksb",
      "execution_count": 33,
      "outputs": []
    },
    {
      "cell_type": "code",
      "source": [
        "exp_mariscos(5)"
      ],
      "metadata": {
        "id": "zp53vLagO_32",
        "outputId": "c39dd9b0-016d-4e5f-cd52-bf84ff1e20f4",
        "colab": {
          "base_uri": "https://localhost:8080/"
        }
      },
      "id": "zp53vLagO_32",
      "execution_count": 34,
      "outputs": [
        {
          "output_type": "execute_result",
          "data": {
            "text/plain": [
              "array([0, 1, 1, 1, 1])"
            ]
          },
          "metadata": {},
          "execution_count": 34
        }
      ]
    },
    {
      "cell_type": "code",
      "source": [
        "def correr_simulacion_2(p = 0.7, n = 200):\n",
        "  salud_previa = st.bernoulli.rvs(p, size = n)\n",
        "  mariscos = exp_mariscos(n)\n",
        "  bienestar = - 2 * mariscos + 3 * salud_previa +  np.random.normal(0, 1, size = n)\n",
        "  return pd.DataFrame({\"salud previa\": salud_previa, \"mariscos\": mariscos, \"bienestar\": bienestar})"
      ],
      "metadata": {
        "id": "kZ_906kCLNVP"
      },
      "id": "kZ_906kCLNVP",
      "execution_count": 35,
      "outputs": []
    },
    {
      "cell_type": "code",
      "source": [
        "datos_ej2 = correr_simulacion_2(0.7, 200)\n",
        "bienestar_mariscos2 = datos_ej2[datos_ej2[\"mariscos\"] == 1][\"bienestar\"].mean()\n",
        "bienestar_no_mariscos2 = datos_ej2[datos_ej2[\"mariscos\"] == 0][\"bienestar\"].mean()\n",
        "print(\"Bienestar de los que comen mariscos:\", bienestar_mariscos2)\n",
        "print(\"Bienestar de los que no comen mariscos:\", bienestar_no_mariscos2)"
      ],
      "metadata": {
        "id": "9OXemu8JL3M3",
        "outputId": "76c722c6-e568-490e-8fda-b4ab9190c09b",
        "colab": {
          "base_uri": "https://localhost:8080/"
        }
      },
      "id": "9OXemu8JL3M3",
      "execution_count": 37,
      "outputs": [
        {
          "output_type": "stream",
          "name": "stdout",
          "text": [
            "Bienestar de los que comen mariscos: -0.14534850494185678\n",
            "Bienestar de los que no comen mariscos: 1.7821245900448814\n"
          ]
        }
      ]
    },
    {
      "cell_type": "markdown",
      "source": [
        "\n",
        "## Ejercicio 3: Estimando el efecto causal a través de la media\n",
        "\n",
        "Dadas la muestra de datos experimentales, calcule el efecto causal utilizando la diferencia de medias entre los tratados (grupo de tratamiento) y los no tratados (grupo de control). ¿Qué concluiría?\n"
      ],
      "metadata": {
        "id": "SkHwYA3Ce9Ns"
      },
      "id": "SkHwYA3Ce9Ns"
    },
    {
      "cell_type": "code",
      "source": [
        "df_exp_trat = datos_ej2[datos_ej2['mariscos']==1]\n",
        "df_exp_cont = datos_ej2[datos_ej2['mariscos']==0]"
      ],
      "metadata": {
        "id": "6yoWq62KSa1Q"
      },
      "id": "6yoWq62KSa1Q",
      "execution_count": 38,
      "outputs": []
    },
    {
      "cell_type": "code",
      "source": [
        "bienestar_fin = df_exp_trat.mean() - df_exp_cont.mean()"
      ],
      "metadata": {
        "id": "JFgu4520Snf2"
      },
      "id": "JFgu4520Snf2",
      "execution_count": 45,
      "outputs": []
    },
    {
      "cell_type": "code",
      "source": [
        "bienestar_fin['bienestar']"
      ],
      "metadata": {
        "id": "6ELOooOhSvL8",
        "outputId": "95871c7d-ef1c-4748-9807-4378c29e50fd",
        "colab": {
          "base_uri": "https://localhost:8080/"
        }
      },
      "id": "6ELOooOhSvL8",
      "execution_count": 46,
      "outputs": [
        {
          "output_type": "execute_result",
          "data": {
            "text/plain": [
              "-1.9274730949867382"
            ]
          },
          "metadata": {},
          "execution_count": 46
        }
      ]
    },
    {
      "cell_type": "markdown",
      "source": [
        "## Ejercicio 4: Visualizando resultados de inferencia causal.\n",
        "\n",
        "Utilizando la biblioteca `matplotlib`, grafique la distribución de los efectos causales obtenidos a través de 100 simulaciones de experimentos aleatorios como los del ejercicio 2. Puede también dar algunos estadísticos sumarios como el promedio muestral y la desviación estándar."
      ],
      "metadata": {
        "id": "v6nuczV6fIVc"
      },
      "id": "v6nuczV6fIVc"
    },
    {
      "cell_type": "code",
      "source": [
        "import matplotlib.pyplot as plt"
      ],
      "metadata": {
        "id": "dr9yynDwTNuQ"
      },
      "id": "dr9yynDwTNuQ",
      "execution_count": 47,
      "outputs": []
    },
    {
      "cell_type": "code",
      "source": [],
      "metadata": {
        "id": "B74l1QRJTRCj"
      },
      "id": "B74l1QRJTRCj",
      "execution_count": null,
      "outputs": []
    }
  ],
  "metadata": {
    "colab": {
      "provenance": [],
      "include_colab_link": true
    },
    "language_info": {
      "name": "python"
    },
    "kernelspec": {
      "name": "python3",
      "display_name": "Python 3"
    }
  },
  "nbformat": 4,
  "nbformat_minor": 5
}